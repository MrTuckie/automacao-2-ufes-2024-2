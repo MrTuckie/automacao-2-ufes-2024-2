{
 "cells": [
  {
   "cell_type": "markdown",
   "metadata": {},
   "source": [
    "# Aula 02 - Estatística Descritiva para Séries Temporais"
   ]
  },
  {
   "cell_type": "code",
   "execution_count": 6,
   "metadata": {},
   "outputs": [],
   "source": [
    "import pandas as pd\n",
    "import matplotlib.pyplot as plt\n",
    "import numpy as np\n",
    "from random import uniform\n",
    "from pprint import pprint"
   ]
  },
  {
   "cell_type": "code",
   "execution_count": 11,
   "metadata": {},
   "outputs": [
    {
     "name": "stdout",
     "output_type": "stream",
     "text": [
      "[3.855689745226163, 12.947483817179952, 4.099940039870692, 4.92919116528094, 12.70005287196032, 9.208045893420447, 11.698616972477891, 12.111076546509931, 1.074479828195648, 6.366159772599512]\n"
     ]
    }
   ],
   "source": [
    "series = [uniform(0, 15) for _ in range(10)]\n",
    "print(series)"
   ]
  },
  {
   "cell_type": "markdown",
   "metadata": {},
   "source": [
    "# "
   ]
  },
  {
   "cell_type": "markdown",
   "metadata": {},
   "source": [
    "# Media"
   ]
  },
  {
   "cell_type": "markdown",
   "metadata": {},
   "source": []
  },
  {
   "cell_type": "markdown",
   "metadata": {},
   "source": [
    "# Mediana"
   ]
  },
  {
   "cell_type": "markdown",
   "metadata": {},
   "source": [
    "# Skewness\n",
    "Indica simetria"
   ]
  },
  {
   "cell_type": "markdown",
   "metadata": {},
   "source": [
    "# Kurtosis\n",
    "Mede a 'peakedness' (achatamento) da distribuição. Quanto mais perto de zero, mais parecido com uma gaussiana.\n",
    "# Boxplot\n",
    "Visualização em caixa da distribuição dos dados. Você vê em relação aos 'quartis'.\n",
    "## Whiskers (ou bigodes)\n",
    "É quando tem os outliers e vc precisa mostrar os dados malucos."
   ]
  },
  {
   "cell_type": "markdown",
   "metadata": {},
   "source": [
    "# Autocorrelação\n",
    "A autocorrelação mede o grau de similadridade entre uma série temporal e uma versão atrasada dela em intervalos de tempo consecutivos. Ela vê a relação entre o passado e o futuro."
   ]
  },
  {
   "cell_type": "code",
   "execution_count": null,
   "metadata": {},
   "outputs": [],
   "source": []
  }
 ],
 "metadata": {
  "kernelspec": {
   "display_name": "Python 3",
   "language": "python",
   "name": "python3"
  },
  "language_info": {
   "codemirror_mode": {
    "name": "ipython",
    "version": 3
   },
   "file_extension": ".py",
   "mimetype": "text/x-python",
   "name": "python",
   "nbconvert_exporter": "python",
   "pygments_lexer": "ipython3",
   "version": "3.10.15"
  }
 },
 "nbformat": 4,
 "nbformat_minor": 2
}
